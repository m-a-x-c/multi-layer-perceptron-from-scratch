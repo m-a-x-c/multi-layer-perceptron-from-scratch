{
 "cells": [
  {
   "cell_type": "code",
   "execution_count": 1,
   "metadata": {},
   "outputs": [],
   "source": [
    "import pandas as pd\n",
    "from sklearn.neighbors import KNeighborsClassifier"
   ]
  },
  {
   "cell_type": "code",
   "execution_count": 3,
   "metadata": {},
   "outputs": [],
   "source": [
    "df = pd.read_csv(\"mnist-train-data.csv\") # import the train dataset\n",
    "X_test = pd.read_csv(\"???\") # import the test dataset\n",
    "X, y = df.loc[:,\"pixel1\":\"pixel778\"], df.loc[:,\"label\"] # split the features and label\n",
    "clf = KNeighborsClassifier(n_neighbors=3).fit(X, y) # train the model\n",
    "y_pred = clf.predict(X_test) # predict the labels for the test dataset\n",
    "# write predictions to file"
   ]
  }
 ],
 "metadata": {
  "interpreter": {
   "hash": "ae305f4dee197bdc0c916b004f5792eca0da2328f3eb5fe8e31b308819fc7eb2"
  },
  "kernelspec": {
   "display_name": "Python 3.10.1 64-bit",
   "language": "python",
   "name": "python3"
  },
  "language_info": {
   "codemirror_mode": {
    "name": "ipython",
    "version": 3
   },
   "file_extension": ".py",
   "mimetype": "text/x-python",
   "name": "python",
   "nbconvert_exporter": "python",
   "pygments_lexer": "ipython3",
   "version": "3.10.1"
  },
  "orig_nbformat": 4
 },
 "nbformat": 4,
 "nbformat_minor": 2
}
