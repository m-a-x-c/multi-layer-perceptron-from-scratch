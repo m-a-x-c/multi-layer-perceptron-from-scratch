{
 "cells": [
  {
   "cell_type": "code",
   "execution_count": 2,
   "metadata": {},
   "outputs": [],
   "source": [
    "import pandas as pd\n",
    "from sklearn.neighbors import KNeighborsClassifier\n",
    "from sklearn.neural_network import MLPClassifier\n",
    "from sklearn.ensemble import StackingClassifier\n",
    "from sklearn.metrics import accuracy_score"
   ]
  },
  {
   "cell_type": "code",
   "execution_count": 3,
   "metadata": {},
   "outputs": [],
   "source": [
    "# IMPORT DATA\n",
    "df = pd.read_csv(\"mnist-train-data.csv\")\n",
    "\n",
    "# SPLIT DATA INTO TRAIN AND TEST\n",
    "train = df.sample(frac=0.7)\n",
    "test = df.drop(train.index)\n",
    "\n",
    "# SPLIT DATA INTO FEATURES AND LABELS\n",
    "X_train = train.loc[:,\"pixel1\":\"pixel778\"]\n",
    "y_train = train.loc[:,\"label\"]\n",
    "\n",
    "X_test = test.loc[:,\"pixel1\":\"pixel778\"]\n",
    "y_test = test.loc[:,\"label\"]"
   ]
  },
  {
   "cell_type": "code",
   "execution_count": 4,
   "metadata": {},
   "outputs": [
    {
     "data": {
      "text/plain": [
       "BaggingClassifier(base_estimator=KNeighborsClassifier(), max_features=0.95,\n",
       "                  max_samples=0.95, n_estimators=20)"
      ]
     },
     "execution_count": 4,
     "metadata": {},
     "output_type": "execute_result"
    }
   ],
   "source": [
    "# TRAIN THE CLASSIFIER\n",
    "# n_estimators is the number of different classifiers\n",
    "# max_samples is the fraction of samples to use for each classifier\n",
    "# max_features is the fraction of samples to use for each classifier\n",
    "classifer = BaggingClassifier(KNeighborsClassifier(), n_estimators=20, max_samples=0.95, max_features=0.95)\n",
    "classifer.fit(X_train, y_train)"
   ]
  },
  {
   "cell_type": "code",
   "execution_count": 5,
   "metadata": {},
   "outputs": [
    {
     "name": "stdout",
     "output_type": "stream",
     "text": [
      "Accuracy: 96.4%\n"
     ]
    }
   ],
   "source": [
    "# TEST THE CLASSIFIER\n",
    "y_pred = classifer.predict(X_test[:1000])\n",
    "acc = accuracy_score(y_test[:1000], y_pred)\n",
    "print(f\"Accuracy: {round(acc*100, 1)}%\")"
   ]
  }
 ],
 "metadata": {
  "interpreter": {
   "hash": "ae305f4dee197bdc0c916b004f5792eca0da2328f3eb5fe8e31b308819fc7eb2"
  },
  "kernelspec": {
   "display_name": "Python 3.10.1 64-bit",
   "language": "python",
   "name": "python3"
  },
  "language_info": {
   "codemirror_mode": {
    "name": "ipython",
    "version": 3
   },
   "file_extension": ".py",
   "mimetype": "text/x-python",
   "name": "python",
   "nbconvert_exporter": "python",
   "pygments_lexer": "ipython3",
   "version": "3.10.1"
  },
  "orig_nbformat": 4
 },
 "nbformat": 4,
 "nbformat_minor": 2
}
